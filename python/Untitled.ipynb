{
 "cells": [
  {
   "cell_type": "code",
   "execution_count": 3,
   "id": "457417df",
   "metadata": {},
   "outputs": [],
   "source": [
    "# %load ch1.py\n",
    "import pandas as pd\n",
    "file = '../data/oig_tokens.csv'\n",
    "df = pd.read_csv(file)\n",
    "df.drop(df.columns[0], axis=1, inplace=True)\n",
    "df['length'] = df['text'].str.len()\n"
   ]
  },
  {
   "cell_type": "code",
   "execution_count": 4,
   "id": "fc5e0792",
   "metadata": {},
   "outputs": [
    {
     "data": {
      "text/html": [
       "<div>\n",
       "<style scoped>\n",
       "    .dataframe tbody tr th:only-of-type {\n",
       "        vertical-align: middle;\n",
       "    }\n",
       "\n",
       "    .dataframe tbody tr th {\n",
       "        vertical-align: top;\n",
       "    }\n",
       "\n",
       "    .dataframe thead th {\n",
       "        text-align: right;\n",
       "    }\n",
       "</style>\n",
       "<table border=\"1\" class=\"dataframe\">\n",
       "  <thead>\n",
       "    <tr style=\"text-align: right;\">\n",
       "      <th></th>\n",
       "      <th>file</th>\n",
       "      <th>text</th>\n",
       "      <th>length</th>\n",
       "    </tr>\n",
       "  </thead>\n",
       "  <tbody>\n",
       "    <tr>\n",
       "      <th>0</th>\n",
       "      <td>OIG-20-29-May20.pdf</td>\n",
       "      <td>Capacity Audit of FEMA Grant Funds Awarded to ...</td>\n",
       "      <td>99</td>\n",
       "    </tr>\n",
       "    <tr>\n",
       "      <th>1</th>\n",
       "      <td>OIG-20-29-May20.pdf</td>\n",
       "      <td>May 4, 2020 OIG-20-29</td>\n",
       "      <td>21</td>\n",
       "    </tr>\n",
       "    <tr>\n",
       "      <th>2</th>\n",
       "      <td>OIG-20-29-May20.pdf</td>\n",
       "      <td>DHS OIG HIGHLIGHTS Capacity Audit of FEMA Gran...</td>\n",
       "      <td>118</td>\n",
       "    </tr>\n",
       "    <tr>\n",
       "      <th>3</th>\n",
       "      <td>OIG-20-29-May20.pdf</td>\n",
       "      <td>May 4, 2020</td>\n",
       "      <td>11</td>\n",
       "    </tr>\n",
       "    <tr>\n",
       "      <th>4</th>\n",
       "      <td>OIG-20-29-May20.pdf</td>\n",
       "      <td>Why We Did This Audit DHS Office of Inspector ...</td>\n",
       "      <td>329</td>\n",
       "    </tr>\n",
       "    <tr>\n",
       "      <th>...</th>\n",
       "      <td>...</td>\n",
       "      <td>...</td>\n",
       "      <td>...</td>\n",
       "    </tr>\n",
       "    <tr>\n",
       "      <th>12788</th>\n",
       "      <td>OIG-23-20-Mar23.pdf</td>\n",
       "      <td>For further information or questions, please c...</td>\n",
       "      <td>174</td>\n",
       "    </tr>\n",
       "    <tr>\n",
       "      <th>12789</th>\n",
       "      <td>OIG-23-20-Mar23.pdf</td>\n",
       "      <td>OIG Hotline</td>\n",
       "      <td>11</td>\n",
       "    </tr>\n",
       "    <tr>\n",
       "      <th>12790</th>\n",
       "      <td>OIG-23-20-Mar23.pdf</td>\n",
       "      <td>To report fraud, waste, or abuse, visit our we...</td>\n",
       "      <td>230</td>\n",
       "    </tr>\n",
       "    <tr>\n",
       "      <th>12791</th>\n",
       "      <td>OIG-23-20-Mar23.pdf</td>\n",
       "      <td>Department of Homeland Security Office of Insp...</td>\n",
       "      <td>141</td>\n",
       "    </tr>\n",
       "    <tr>\n",
       "      <th>12792</th>\n",
       "      <td>OIG-23-20-Mar23.pdf</td>\n",
       "      <td>www.oig.dhs.gov mailto:DHS-OIG.OfficePublicAff...</td>\n",
       "      <td>38950</td>\n",
       "    </tr>\n",
       "  </tbody>\n",
       "</table>\n",
       "<p>12793 rows × 3 columns</p>\n",
       "</div>"
      ],
      "text/plain": [
       "                      file                                               text   \n",
       "0      OIG-20-29-May20.pdf  Capacity Audit of FEMA Grant Funds Awarded to ...  \\\n",
       "1      OIG-20-29-May20.pdf                              May 4, 2020 OIG-20-29   \n",
       "2      OIG-20-29-May20.pdf  DHS OIG HIGHLIGHTS Capacity Audit of FEMA Gran...   \n",
       "3      OIG-20-29-May20.pdf                                        May 4, 2020   \n",
       "4      OIG-20-29-May20.pdf  Why We Did This Audit DHS Office of Inspector ...   \n",
       "...                    ...                                                ...   \n",
       "12788  OIG-23-20-Mar23.pdf  For further information or questions, please c...   \n",
       "12789  OIG-23-20-Mar23.pdf                                        OIG Hotline   \n",
       "12790  OIG-23-20-Mar23.pdf  To report fraud, waste, or abuse, visit our we...   \n",
       "12791  OIG-23-20-Mar23.pdf  Department of Homeland Security Office of Insp...   \n",
       "12792  OIG-23-20-Mar23.pdf  www.oig.dhs.gov mailto:DHS-OIG.OfficePublicAff...   \n",
       "\n",
       "       length  \n",
       "0          99  \n",
       "1          21  \n",
       "2         118  \n",
       "3          11  \n",
       "4         329  \n",
       "...       ...  \n",
       "12788     174  \n",
       "12789      11  \n",
       "12790     230  \n",
       "12791     141  \n",
       "12792   38950  \n",
       "\n",
       "[12793 rows x 3 columns]"
      ]
     },
     "execution_count": 4,
     "metadata": {},
     "output_type": "execute_result"
    }
   ],
   "source": [
    "df"
   ]
  },
  {
   "cell_type": "code",
   "execution_count": 2,
   "id": "b9060897",
   "metadata": {},
   "outputs": [
    {
     "data": {
      "text/plain": [
       "'/home/wcs/projects/text-pipeline/python'"
      ]
     },
     "execution_count": 2,
     "metadata": {},
     "output_type": "execute_result"
    }
   ],
   "source": [
    "import os\n",
    "os.getcwd()"
   ]
  },
  {
   "cell_type": "code",
   "execution_count": 6,
   "id": "806e574a",
   "metadata": {},
   "outputs": [
    {
     "data": {
      "text/plain": [
       "<Axes: ylabel='Frequency'>"
      ]
     },
     "execution_count": 6,
     "metadata": {},
     "output_type": "execute_result"
    },
    {
     "data": {
      "image/png": "[encoded data removed]",
      "text/plain": [
       "<Figure size 640x480 with 1 Axes>"
      ]
     },
     "metadata": {},
     "output_type": "display_data"
    }
   ],
   "source": [
    "df['length'].plot(kind='hist', bins = 30)"
   ]
  },
  {
   "cell_type": "code",
   "execution_count": null,
   "id": "6615255b",
   "metadata": {},
   "outputs": [],
   "source": []
  }
 ],
 "metadata": {
  "kernelspec": {
   "display_name": "Python 3 (ipykernel)",
   "language": "python",
   "name": "python3"
  },
  "language_info": {
   "codemirror_mode": {
    "name": "ipython",
    "version": 3
   },
   "file_extension": ".py",
   "mimetype": "text/x-python",
   "name": "python",
   "nbconvert_exporter": "python",
   "pygments_lexer": "ipython3",
   "version": "3.10.6"
  }
 },
 "nbformat": 4,
 "nbformat_minor": 5
}
